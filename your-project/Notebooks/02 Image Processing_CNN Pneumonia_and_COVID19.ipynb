{
 "cells": [
  {
   "cell_type": "code",
   "execution_count": 100,
   "metadata": {},
   "outputs": [],
   "source": [
    "keras.backend.clear_session()"
   ]
  },
  {
   "cell_type": "code",
   "execution_count": 1,
   "metadata": {},
   "outputs": [
    {
     "name": "stderr",
     "output_type": "stream",
     "text": [
      "Using TensorFlow backend.\n"
     ]
    }
   ],
   "source": [
    "from IPython.display import Image\n",
    "from IPython.core.display import HTML \n",
    "from collections import Counter\n",
    "\n",
    "import cv2\n",
    "import pandas as pd\n",
    "import random\n",
    "import numpy as np\n",
    "import matplotlib.pyplot as plt #for plotting things\n",
    "import os\n",
    "import os.path\n",
    "import shutil\n",
    "import seaborn as sns\n",
    "import joblib\n",
    "\n",
    "# Keras Libraries\n",
    "import tensorflow as tf\n",
    "import keras\n",
    "from sklearn.model_selection import train_test_split\n",
    "from keras.models import Sequential\n",
    "from keras.layers import Conv2D\n",
    "from keras.layers import MaxPooling2D\n",
    "from keras.layers import Flatten\n",
    "from keras.layers import Dense\n",
    "from keras.preprocessing.image import ImageDataGenerator, load_img, img_to_array, array_to_img\n",
    "from sklearn.metrics import classification_report, confusion_matrix\n",
    "#from keras.models import model_from_json\n",
    "from tensorflow.keras.models import load_model\n",
    "from keras.utils import plot_model"
   ]
  },
  {
   "cell_type": "code",
   "execution_count": 2,
   "metadata": {},
   "outputs": [],
   "source": [
    "train_images = r\"C:\\Users\\Gareth\\Desktop\\Ironhack\\Week_Eight\\Project_Datasets\\chest_xray\\train\"\n",
    "val_images = r\"C:\\Users\\Gareth\\Desktop\\Ironhack\\Week_Eight\\Project_Datasets\\chest_xray\\val\"\n",
    "test_images = r\"C:\\Users\\Gareth\\Desktop\\Ironhack\\Week_Eight\\Project_Datasets\\chest_xray\\test\""
   ]
  },
  {
   "cell_type": "markdown",
   "metadata": {},
   "source": [
    "#### This function serves to feed in the from the train, validation and test image datasets, label them appropiately as a 0 or a 1 based on their location (either in the Pneumonia or Normal files). Then, it iterates through the images, converts them to grayscale, resizes the image to a smaller 128 x 128 dimension and converts it into an array of numbers. This list of pixels, along with the label (0 or 1), is then appended into the an array. "
   ]
  },
  {
   "cell_type": "code",
   "execution_count": 3,
   "metadata": {},
   "outputs": [],
   "source": [
    "labels = ['PNEUMONIA', 'NORMAL', 'COVID']\n",
    "\n",
    "def get_training_data(data_dir):\n",
    "    data = []\n",
    "    for label in labels:\n",
    "        path = os.path.join(data_dir, label)\n",
    "        class_num = labels.index(label)\n",
    "        print(path)\n",
    "        for img in os.listdir(path):\n",
    "            try:\n",
    "                img_arr = cv2.imread(os.path.join(path, img), \n",
    "                                     cv2.IMREAD_GRAYSCALE)\n",
    "                resized_arr = cv2.resize(img_arr, (128, 128))\n",
    "                data.append([resized_arr, class_num])\n",
    "            \n",
    "            except Exception as e:\n",
    "                print(e)\n",
    "    return np.array(data)"
   ]
  },
  {
   "cell_type": "code",
   "execution_count": 4,
   "metadata": {},
   "outputs": [
    {
     "name": "stdout",
     "output_type": "stream",
     "text": [
      "C:\\Users\\Gareth\\Desktop\\Ironhack\\Week_Eight\\Project_Datasets\\chest_xray\\train\\PNEUMONIA\n",
      "C:\\Users\\Gareth\\Desktop\\Ironhack\\Week_Eight\\Project_Datasets\\chest_xray\\train\\NORMAL\n",
      "C:\\Users\\Gareth\\Desktop\\Ironhack\\Week_Eight\\Project_Datasets\\chest_xray\\train\\COVID\n",
      "C:\\Users\\Gareth\\Desktop\\Ironhack\\Week_Eight\\Project_Datasets\\chest_xray\\val\\PNEUMONIA\n",
      "C:\\Users\\Gareth\\Desktop\\Ironhack\\Week_Eight\\Project_Datasets\\chest_xray\\val\\NORMAL\n",
      "C:\\Users\\Gareth\\Desktop\\Ironhack\\Week_Eight\\Project_Datasets\\chest_xray\\val\\COVID\n",
      "C:\\Users\\Gareth\\Desktop\\Ironhack\\Week_Eight\\Project_Datasets\\chest_xray\\test\\PNEUMONIA\n",
      "C:\\Users\\Gareth\\Desktop\\Ironhack\\Week_Eight\\Project_Datasets\\chest_xray\\test\\NORMAL\n",
      "C:\\Users\\Gareth\\Desktop\\Ironhack\\Week_Eight\\Project_Datasets\\chest_xray\\test\\COVID\n"
     ]
    }
   ],
   "source": [
    "train = get_training_data(r\"C:\\Users\\Gareth\\Desktop\\Ironhack\\Week_Eight\\Project_Datasets\\chest_xray\\train\")\n",
    "val = get_training_data(r\"C:\\Users\\Gareth\\Desktop\\Ironhack\\Week_Eight\\Project_Datasets\\chest_xray\\val\")\n",
    "test = get_training_data(r\"C:\\Users\\Gareth\\Desktop\\Ironhack\\Week_Eight\\Project_Datasets\\chest_xray\\test\")"
   ]
  },
  {
   "cell_type": "markdown",
   "metadata": {},
   "source": [
    "#### Here's the distribution of our images per set.\n",
    "#### I have now included additional CT scans from COVID-19 patients in the dataset."
   ]
  },
  {
   "cell_type": "code",
   "execution_count": 43,
   "metadata": {},
   "outputs": [
    {
     "data": {
      "image/png": "[encoded data removed]",
      "text/plain": [
       "<Figure size 432x288 with 1 Axes>"
      ]
     },
     "metadata": {
      "needs_background": "light"
     },
     "output_type": "display_data"
    }
   ],
   "source": [
    "train_cases = pd.DataFrame(train)\n",
    "test_cases = pd.DataFrame(test)\n",
    "val_cases = pd.DataFrame(val)\n",
    "\n",
    "train_cases = train_cases[1].value_counts()\n",
    "test_cases = test_cases[1].value_counts()\n",
    "val_cases = val_cases[1].value_counts()\n",
    "\n",
    "labels = ['PNEUMONIA', 'NORMAL', 'COVID']\n",
    "\n",
    "index = np.arange(len(labels))\n",
    "bar_width = 0.25\n",
    "opacity = 0.9\n",
    "\n",
    "fig, ax = plt.subplots()\n",
    "\n",
    "train_bar = ax.bar(index - bar_width, train_cases, bar_width,\n",
    "                alpha=opacity, color='b',\n",
    "                label='Training Set')\n",
    "\n",
    "test_bar = ax.bar(index, test_cases, bar_width,\n",
    "                alpha=opacity, color='r', tick_label = ('Pneumonia', 'Normal', 'COVID'),\n",
    "                label='Testing Set')\n",
    "val_bar = ax.bar(index + bar_width, val_cases, bar_width,\n",
    "                  alpha=opacity, color='g', tick_label = ('Pneumonia', 'Normal', 'COVID'),\n",
    "                label='Validation Set')\n",
    "\n",
    "\n",
    "plt.xlabel('Class')\n",
    "plt.ylabel('Number of Images')\n",
    "plt.title('Total Images per set')\n",
    "plt.xticks(index + bar_width)\n",
    "plt.legend()\n",
    "\n",
    "plt.show()"
   ]
  },
  {
   "cell_type": "markdown",
   "metadata": {},
   "source": [
    "#### Here's a further breakdown of the how the images are distributed in the set."
   ]
  },
  {
   "cell_type": "code",
   "execution_count": 44,
   "metadata": {},
   "outputs": [],
   "source": [
    "def percentage(image_set):\n",
    "    for l, i in zip(labels, list(image_set)):\n",
    "        num = (int(i) / sum(list(image_set)))\n",
    "        print(l,' images make up ',round(num * 100),'% of the set')"
   ]
  },
  {
   "cell_type": "code",
   "execution_count": 45,
   "metadata": {},
   "outputs": [
    {
     "name": "stdout",
     "output_type": "stream",
     "text": [
      "PNEUMONIA  images make up  74 % of the set\n",
      "NORMAL  images make up  26 % of the set\n",
      "COVID  images make up  1 % of the set\n"
     ]
    }
   ],
   "source": [
    "percentage(train_cases)"
   ]
  },
  {
   "cell_type": "code",
   "execution_count": 46,
   "metadata": {},
   "outputs": [
    {
     "name": "stdout",
     "output_type": "stream",
     "text": [
      "PNEUMONIA  images make up  62 % of the set\n",
      "NORMAL  images make up  37 % of the set\n",
      "COVID  images make up  1 % of the set\n"
     ]
    }
   ],
   "source": [
    "percentage(test_cases)"
   ]
  },
  {
   "cell_type": "code",
   "execution_count": 47,
   "metadata": {},
   "outputs": [
    {
     "name": "stdout",
     "output_type": "stream",
     "text": [
      "PNEUMONIA  images make up  38 % of the set\n",
      "NORMAL  images make up  31 % of the set\n",
      "COVID  images make up  31 % of the set\n"
     ]
    }
   ],
   "source": [
    "percentage(val_cases)"
   ]
  },
  {
   "cell_type": "markdown",
   "metadata": {},
   "source": [
    "#### As mentioned in the previous notebook, our dataset is quite unbalanced, which might affect the fit of the CNN. In order to avoid this, I will use the ImageDataGenerator, which I will describe later."
   ]
  },
  {
   "cell_type": "markdown",
   "metadata": {},
   "source": [
    "## Preparing the image data for implementation into our CNN."
   ]
  },
  {
   "cell_type": "markdown",
   "metadata": {},
   "source": [
    "#### Here, I extract the feature (the numpy array per image), and the label (the class of the image), and append the data into x and y sets.  "
   ]
  },
  {
   "cell_type": "code",
   "execution_count": 5,
   "metadata": {},
   "outputs": [],
   "source": [
    "x_train = []\n",
    "y_train = []\n",
    "\n",
    "x_val = []\n",
    "y_val = []\n",
    "\n",
    "x_test = []\n",
    "y_test = []\n",
    "\n",
    "for feature, label in train:\n",
    "    x_train.append(feature)\n",
    "    y_train.append(label)\n",
    "\n",
    "for feature, label in test:\n",
    "    x_test.append(feature)\n",
    "    y_test.append(label)\n",
    "    \n",
    "for feature, label in val:\n",
    "    x_val.append(feature)\n",
    "    y_val.append(label)"
   ]
  },
  {
   "cell_type": "code",
   "execution_count": 6,
   "metadata": {},
   "outputs": [
    {
     "data": {
      "text/plain": [
       "array([[19, 27, 30, ..., 16,  9,  2],\n",
       "       [24, 26, 34, ..., 17, 11,  4],\n",
       "       [22, 30, 39, ..., 19, 11,  4],\n",
       "       ...,\n",
       "       [10,  8,  7, ..., 15, 15, 15],\n",
       "       [10,  8,  7, ..., 15, 15, 15],\n",
       "       [10, 10,  7, ..., 15, 15, 15]], dtype=uint8)"
      ]
     },
     "execution_count": 6,
     "metadata": {},
     "output_type": "execute_result"
    }
   ],
   "source": [
    "x_train[0]"
   ]
  },
  {
   "cell_type": "markdown",
   "metadata": {},
   "source": [
    "### Reducing the Colour Data Down to Grayscale (0 - 1) instead of (0 - 255)"
   ]
  },
  {
   "cell_type": "markdown",
   "metadata": {},
   "source": [
    "#### This significantly reduces the amount of information that the neural network needs to process, thereby reducing the amount of data that's needed to be allocated to memory and reducing the computation time."
   ]
  },
  {
   "cell_type": "code",
   "execution_count": 7,
   "metadata": {},
   "outputs": [],
   "source": [
    "x_train = np.array(x_train) / 255\n",
    "x_val = np.array(x_val) / 255\n",
    "x_test = np.array(x_test) / 255"
   ]
  },
  {
   "cell_type": "code",
   "execution_count": 8,
   "metadata": {},
   "outputs": [],
   "source": [
    "img_size = 128"
   ]
  },
  {
   "cell_type": "code",
   "execution_count": 9,
   "metadata": {},
   "outputs": [],
   "source": [
    "x_train = x_train.reshape(-1, img_size, img_size, 1)\n",
    "y_train = np.array(y_train)\n",
    "\n",
    "x_val = x_val.reshape(-1, img_size, img_size, 1)\n",
    "y_val = np.array(y_val)\n",
    "\n",
    "x_test = x_test.reshape(-1, img_size, img_size, 1)\n",
    "y_test = np.array(y_test)"
   ]
  },
  {
   "cell_type": "code",
   "execution_count": 10,
   "metadata": {},
   "outputs": [
    {
     "data": {
      "text/plain": [
       "array([0, 0, 0, 0, 0, 0, 0, 0, 1, 1, 1, 1, 1, 1, 1, 1, 2, 2, 2, 2, 2, 2,\n",
       "       2, 2, 2, 2])"
      ]
     },
     "execution_count": 10,
     "metadata": {},
     "output_type": "execute_result"
    }
   ],
   "source": [
    "y_val"
   ]
  },
  {
   "cell_type": "code",
   "execution_count": 11,
   "metadata": {},
   "outputs": [
    {
     "name": "stdout",
     "output_type": "stream",
     "text": [
      "(5244, 128, 128, 1)\n"
     ]
    }
   ],
   "source": [
    "print(x_train.shape)"
   ]
  },
  {
   "cell_type": "code",
   "execution_count": 12,
   "metadata": {},
   "outputs": [
    {
     "data": {
      "text/plain": [
       "array([[[0.0745098 ],\n",
       "        [0.10588235],\n",
       "        [0.11764706],\n",
       "        ...,\n",
       "        [0.0627451 ],\n",
       "        [0.03529412],\n",
       "        [0.00784314]],\n",
       "\n",
       "       [[0.09411765],\n",
       "        [0.10196078],\n",
       "        [0.13333333],\n",
       "        ...,\n",
       "        [0.06666667],\n",
       "        [0.04313725],\n",
       "        [0.01568627]],\n",
       "\n",
       "       [[0.08627451],\n",
       "        [0.11764706],\n",
       "        [0.15294118],\n",
       "        ...,\n",
       "        [0.0745098 ],\n",
       "        [0.04313725],\n",
       "        [0.01568627]],\n",
       "\n",
       "       ...,\n",
       "\n",
       "       [[0.03921569],\n",
       "        [0.03137255],\n",
       "        [0.02745098],\n",
       "        ...,\n",
       "        [0.05882353],\n",
       "        [0.05882353],\n",
       "        [0.05882353]],\n",
       "\n",
       "       [[0.03921569],\n",
       "        [0.03137255],\n",
       "        [0.02745098],\n",
       "        ...,\n",
       "        [0.05882353],\n",
       "        [0.05882353],\n",
       "        [0.05882353]],\n",
       "\n",
       "       [[0.03921569],\n",
       "        [0.03921569],\n",
       "        [0.02745098],\n",
       "        ...,\n",
       "        [0.05882353],\n",
       "        [0.05882353],\n",
       "        [0.05882353]]])"
      ]
     },
     "execution_count": 12,
     "metadata": {},
     "output_type": "execute_result"
    }
   ],
   "source": [
    "x_train[0]"
   ]
  },
  {
   "cell_type": "markdown",
   "metadata": {},
   "source": [
    "### ImageDataGenerator\n",
    "#### This parameter can be used to generate more data from our dataset by feeding in images and manipulating them by flipping their horizontal axis or rotating them. This serves as a way to artificially increase the size of our dataset. This is applied to both the Training Data and Validation Data."
   ]
  },
  {
   "cell_type": "code",
   "execution_count": 13,
   "metadata": {},
   "outputs": [],
   "source": [
    "datagen = ImageDataGenerator(horizontal_flip = True,\n",
    "                             rotation_range = 5,\n",
    "                            zoom_range = 0.1,\n",
    "                            width_shift_range = 0.2,\n",
    "                            height_shift_range = 0.2)"
   ]
  },
  {
   "attachments": {
    "example.jpg": {
     "image/jpeg": "[encoded data removed]"
    }
   },
   "cell_type": "markdown",
   "metadata": {},
   "source": [
    "![example.jpg](attachment:example.jpg)"
   ]
  },
  {
   "cell_type": "markdown",
   "metadata": {},
   "source": [
    "# CNN Model"
   ]
  },
  {
   "cell_type": "markdown",
   "metadata": {},
   "source": [
    "### Below I utilised the same model as I used in my previous notebook to assess wherever this can differentiate between COVID-19 induced pneumonia and the previous pneumonia images."
   ]
  },
  {
   "cell_type": "code",
   "execution_count": 96,
   "metadata": {},
   "outputs": [],
   "source": [
    "model = Sequential()\n",
    "\n",
    "#Convolution \n",
    "model.add(Conv2D(32, (3, 3), activation=\"relu\", input_shape=(128, 128, 1)))\n",
    "\n",
    "#Pooling\n",
    "model.add(MaxPooling2D(pool_size = (2, 2)))\n",
    "\n",
    "# 2nd Convolution\n",
    "model.add(Conv2D(64, (3, 3), activation=\"relu\"))\n",
    "\n",
    "# 2nd Pooling layer\n",
    "model.add(MaxPooling2D(pool_size = (2, 2)))\n",
    "\n",
    "# 3rd Convolution\n",
    "#model.add(Conv2D(128, (3, 3), activation=\"relu\"))\n",
    "\n",
    "# 3rd Pooling layer\n",
    "#model.add(MaxPooling2D(pool_size = (2, 2)))\n",
    "\n",
    "# Flatten the layer - this flattens the 3D feature maps into 1D \n",
    "# feature vectors.\n",
    "model.add(Flatten())\n",
    "\n",
    "# Density\n",
    "model.add(Dense(activation = 'relu', units = 2048, kernel_initializer = 'uniform'))\n",
    "model.add(Dense(activation = 'relu', units = 1024, kernel_initializer = 'uniform'))\n",
    "model.add(Dense(activation = 'relu', units = 512, kernel_initializer = 'uniform'))\n",
    "model.add(Dense(activation = 'relu', units = 265, kernel_initializer = 'uniform'))\n",
    "model.add(Dense(activation = 'sigmoid', units = 1, kernel_initializer = 'uniform'))\n",
    "\n",
    "# Compile \n",
    "model.compile(optimizer = 'adam', loss = 'binary_crossentropy', metrics = ['accuracy'])"
   ]
  },
  {
   "cell_type": "code",
   "execution_count": 97,
   "metadata": {
    "scrolled": true
   },
   "outputs": [
    {
     "name": "stdout",
     "output_type": "stream",
     "text": [
      "Model: \"sequential_2\"\n",
      "_________________________________________________________________\n",
      "Layer (type)                 Output Shape              Param #   \n",
      "=================================================================\n",
      "conv2d_3 (Conv2D)            (None, 126, 126, 32)      320       \n",
      "_________________________________________________________________\n",
      "max_pooling2d_3 (MaxPooling2 (None, 63, 63, 32)        0         \n",
      "_________________________________________________________________\n",
      "conv2d_4 (Conv2D)            (None, 61, 61, 64)        18496     \n",
      "_________________________________________________________________\n",
      "max_pooling2d_4 (MaxPooling2 (None, 30, 30, 64)        0         \n",
      "_________________________________________________________________\n",
      "flatten_2 (Flatten)          (None, 57600)             0         \n",
      "_________________________________________________________________\n",
      "dense_6 (Dense)              (None, 2048)              117966848 \n",
      "_________________________________________________________________\n",
      "dense_7 (Dense)              (None, 1024)              2098176   \n",
      "_________________________________________________________________\n",
      "dense_8 (Dense)              (None, 512)               524800    \n",
      "_________________________________________________________________\n",
      "dense_9 (Dense)              (None, 265)               135945    \n",
      "_________________________________________________________________\n",
      "dense_10 (Dense)             (None, 1)                 266       \n",
      "=================================================================\n",
      "Total params: 120,744,851\n",
      "Trainable params: 120,744,851\n",
      "Non-trainable params: 0\n",
      "_________________________________________________________________\n"
     ]
    }
   ],
   "source": [
    "model.summary()"
   ]
  },
  {
   "cell_type": "code",
   "execution_count": 88,
   "metadata": {},
   "outputs": [
    {
     "name": "stdout",
     "output_type": "stream",
     "text": [
      "Epoch 1/20\n",
      "41/41 [==============================] - 91s 2s/step - loss: 0.5915 - accuracy: 0.7386 - val_loss: 1.9217 - val_accuracy: 0.3077\n",
      "Epoch 2/20\n",
      "41/41 [==============================] - 87s 2s/step - loss: 0.4561 - accuracy: 0.7849 - val_loss: 1.8062 - val_accuracy: 0.4231\n",
      "Epoch 3/20\n",
      "41/41 [==============================] - 86s 2s/step - loss: 0.3484 - accuracy: 0.8501 - val_loss: 0.9598 - val_accuracy: 0.4231\n",
      "Epoch 4/20\n",
      "41/41 [==============================] - 86s 2s/step - loss: 0.3026 - accuracy: 0.8711 - val_loss: 0.6621 - val_accuracy: 0.5000\n",
      "Epoch 5/20\n",
      "41/41 [==============================] - 87s 2s/step - loss: 0.2449 - accuracy: 0.8926 - val_loss: 1.7197 - val_accuracy: 0.3846\n",
      "Epoch 6/20\n",
      "41/41 [==============================] - 86s 2s/step - loss: 0.2358 - accuracy: 0.8963 - val_loss: 0.1177 - val_accuracy: 0.4231\n",
      "Epoch 7/20\n",
      "41/41 [==============================] - 93s 2s/step - loss: 0.2063 - accuracy: 0.9081 - val_loss: -0.2496 - val_accuracy: 0.5385\n",
      "Epoch 8/20\n",
      "41/41 [==============================] - 86s 2s/step - loss: 0.2052 - accuracy: 0.9092 - val_loss: 0.5023 - val_accuracy: 0.3462\n",
      "Epoch 9/20\n",
      "41/41 [==============================] - 87s 2s/step - loss: 0.1999 - accuracy: 0.9129 - val_loss: 0.4770 - val_accuracy: 0.4615\n",
      "Epoch 10/20\n",
      "41/41 [==============================] - 90s 2s/step - loss: 0.1820 - accuracy: 0.9205 - val_loss: -0.0499 - val_accuracy: 0.3846\n",
      "Epoch 11/20\n",
      "41/41 [==============================] - 86s 2s/step - loss: 0.1660 - accuracy: 0.9218 - val_loss: -4.6369 - val_accuracy: 0.4231\n",
      "Epoch 12/20\n",
      "41/41 [==============================] - 87s 2s/step - loss: 0.1724 - accuracy: 0.9138 - val_loss: -3.0632 - val_accuracy: 0.4231\n",
      "Epoch 13/20\n",
      "41/41 [==============================] - 86s 2s/step - loss: 0.4465 - accuracy: 0.7523 - val_loss: 1.7711 - val_accuracy: 0.3077\n",
      "Epoch 14/20\n",
      "41/41 [==============================] - 89s 2s/step - loss: 0.4777 - accuracy: 0.7656 - val_loss: 2.1317 - val_accuracy: 0.3462\n",
      "Epoch 15/20\n",
      "41/41 [==============================] - 88s 2s/step - loss: 0.3357 - accuracy: 0.8524 - val_loss: -8.2323 - val_accuracy: 0.4615\n",
      "Epoch 16/20\n",
      "41/41 [==============================] - 91s 2s/step - loss: 0.6453 - accuracy: 0.7632 - val_loss: 0.5516 - val_accuracy: 0.4231\n",
      "Epoch 17/20\n",
      "41/41 [==============================] - 86s 2s/step - loss: 0.3007 - accuracy: 0.8675 - val_loss: 1.3251 - val_accuracy: 0.4231\n",
      "Epoch 18/20\n",
      "41/41 [==============================] - 90s 2s/step - loss: 0.2518 - accuracy: 0.8909 - val_loss: -16.5619 - val_accuracy: 0.4231\n",
      "Epoch 19/20\n",
      "41/41 [==============================] - 98s 2s/step - loss: 0.3276 - accuracy: 0.8799 - val_loss: 1.2247 - val_accuracy: 0.5000\n",
      "Epoch 20/20\n",
      "41/41 [==============================] - 89s 2s/step - loss: 0.2143 - accuracy: 0.9054 - val_loss: -0.4871 - val_accuracy: 0.5385\n"
     ]
    }
   ],
   "source": [
    "model_covid = model.fit(datagen.flow(x_train, y_train, batch_size = 128), epochs = 20,\n",
    "                                  validation_data = datagen.flow(x_val, y_val))"
   ]
  },
  {
   "cell_type": "markdown",
   "metadata": {},
   "source": [
    "### As you can see, the accuracy of the model is quite good at 87%, whilst the losses could be improved with further tweaking of the CNN."
   ]
  },
  {
   "cell_type": "code",
   "execution_count": 89,
   "metadata": {},
   "outputs": [
    {
     "name": "stdout",
     "output_type": "stream",
     "text": [
      "632/632 [==============================] - 3s 4ms/step\n",
      "Loss of the model is -  30.369769734672353 %\n",
      "632/632 [==============================] - 3s 4ms/step\n",
      "Accuracy of the model is -  87.1835470199585 %\n"
     ]
    }
   ],
   "source": [
    "print(\"Loss of the model is - \" , model.evaluate(x_test,y_test)[0]*100 , \"%\")\n",
    "print(\"Accuracy of the model is - \" , model.evaluate(x_test,y_test)[1]*100 , \"%\")"
   ]
  },
  {
   "cell_type": "code",
   "execution_count": 90,
   "metadata": {},
   "outputs": [
    {
     "name": "stdout",
     "output_type": "stream",
     "text": [
      "training_accuracy 0.9054157\n",
      "validation_accuracy 0.5384615659713745\n"
     ]
    }
   ],
   "source": [
    "print(\"training_accuracy\", model_covid.history['accuracy'][-1])\n",
    "print(\"validation_accuracy\", model_covid.history['val_accuracy'][-1])"
   ]
  },
  {
   "cell_type": "code",
   "execution_count": 91,
   "metadata": {},
   "outputs": [
    {
     "data": {
      "text/plain": [
       "array([0, 0, 0, 0, 0, 0, 0, 0, 0, 0, 0, 0, 0, 0, 0, 0, 0, 0, 0, 0, 0, 0,\n",
       "       0, 0, 0, 0, 0, 0, 0, 0, 0, 0, 0, 0, 0, 0, 0, 0, 0, 0, 0, 0, 0, 0,\n",
       "       0, 0, 0, 0, 0, 0, 0, 0, 0, 0, 0, 0, 0, 0, 0, 0, 0, 0, 0, 0, 0, 0,\n",
       "       0, 0, 0, 0, 0, 0, 0, 0, 0, 0, 0, 0, 0, 0, 0, 0, 0, 0, 0, 0, 0, 1,\n",
       "       0, 0, 0, 0, 0, 0, 0, 0, 0, 0, 0, 0, 1, 0, 0, 0, 0, 0, 0, 0, 0, 0,\n",
       "       0, 0, 0, 0, 1, 0, 0, 0, 0, 0, 0, 0, 0, 1, 0, 0, 0, 0, 0, 0, 0, 0,\n",
       "       0, 0, 0, 0, 0, 0, 0, 0, 0, 0, 0, 0, 0, 0, 0, 0, 0, 0, 0, 0, 0, 0,\n",
       "       1, 0, 1, 1, 0, 0, 0, 0, 0, 0, 0, 0, 0, 0, 0, 0, 0, 1, 0, 0, 0, 0,\n",
       "       0, 0, 0, 0, 1, 0, 0, 0, 0, 0, 0, 0, 0, 0, 0, 0, 0, 0, 0, 0, 0, 0,\n",
       "       0, 0, 0, 0, 0, 0, 0, 0, 0, 0, 0, 0, 0, 0, 0, 0, 0, 0, 0, 0, 0, 0,\n",
       "       0, 0, 0, 0, 0, 0, 0, 0, 0, 0, 0, 0, 0, 0, 0, 0, 0, 1, 0, 1, 0, 0,\n",
       "       0, 0, 0, 1, 0, 0, 0, 0, 0, 0, 0, 0, 0, 0, 0, 0, 0, 0, 1, 0, 1, 0,\n",
       "       0, 0, 0, 0, 0, 0, 0, 0, 0, 0, 0, 0, 0, 0, 0, 0, 0, 0, 0, 0, 0, 0,\n",
       "       0, 0, 0, 1, 0, 0, 0, 0, 0, 0, 0, 0, 0, 0, 0, 0, 0, 0, 0, 0, 0, 0,\n",
       "       0, 0, 0, 0, 0, 0, 0, 0, 0, 0, 0, 0, 0, 0, 0, 0, 0, 0, 0, 0, 0, 0,\n",
       "       0, 0, 0, 1, 0, 0, 0, 0, 0, 0, 0, 0, 0, 0, 0, 0, 0, 0, 0, 0, 0, 0,\n",
       "       0, 0, 0, 0, 0, 0, 0, 1, 0, 0, 0, 0, 0, 1, 0, 0, 0, 0, 0, 0, 0, 0,\n",
       "       0, 0, 0, 0, 0, 0, 0, 0, 0, 0, 0, 0, 0, 0, 0, 1, 1, 1, 1, 1, 1, 1,\n",
       "       1, 1, 1, 1, 1, 1, 1, 1, 1, 1, 0, 1, 1, 1, 1, 1, 1, 1, 1, 1, 1, 1,\n",
       "       1, 1, 1, 0, 1, 1, 1, 1, 1, 0, 0, 1, 0, 1, 1, 1, 1, 1, 1, 0, 1, 0,\n",
       "       1, 1, 1, 1, 1, 1, 1, 1, 1, 0, 1, 0, 0, 1, 0, 1, 0, 0, 1, 1, 1, 1,\n",
       "       0, 0, 1, 1, 1, 1, 1, 0, 0, 0, 0, 1, 0, 0, 1, 1, 1, 0, 0, 1, 1, 0,\n",
       "       1, 1, 1, 1, 1, 1, 0, 1, 1, 0, 1, 1, 0, 1, 1, 1, 0, 1, 1, 0, 1, 0,\n",
       "       0, 0, 0, 1, 0, 0, 0, 1, 0, 1, 0, 1, 0, 0, 0, 0, 0, 0, 0, 1, 0, 0,\n",
       "       0, 0, 0, 1, 0, 0, 0, 0, 0, 0, 1, 1, 1, 1, 1, 0, 1, 1, 1, 1, 1, 0,\n",
       "       0, 1, 1, 1, 1, 1, 1, 1, 1, 1, 1, 0, 0, 1, 1, 1, 1, 1, 1, 1, 1, 0,\n",
       "       1, 1, 1, 1, 1, 1, 1, 1, 1, 0, 1, 1, 1, 1, 1, 1, 0, 1, 0, 1, 0, 1,\n",
       "       0, 1, 1, 1, 1, 1, 1, 1, 1, 1, 1, 1, 0, 0, 0, 1, 1, 1, 1, 0, 1, 1,\n",
       "       0, 1, 1, 1, 0, 1, 1, 1, 1, 1, 1, 0, 1, 1, 1, 1])"
      ]
     },
     "execution_count": 91,
     "metadata": {},
     "output_type": "execute_result"
    }
   ],
   "source": [
    "predictions = model_new.predict_classes(x_test)\n",
    "predictions = predictions.reshape(1,-1)[0]\n",
    "predictions"
   ]
  },
  {
   "cell_type": "code",
   "execution_count": 92,
   "metadata": {},
   "outputs": [
    {
     "name": "stdout",
     "output_type": "stream",
     "text": [
      "Number of correct predictions: 532\n",
      "Number of incorrect predictions: 100\n"
     ]
    }
   ],
   "source": [
    "correct_class = []\n",
    "incorrect_class = []\n",
    "correct = []\n",
    "incorrect = []\n",
    "\n",
    "for i, y in (zip(predictions, y_test)):\n",
    "    \n",
    "    if i == y:\n",
    "        correct.append(1)\n",
    "        correct_class.append(i)\n",
    "    \n",
    "    elif i != y:\n",
    "        incorrect.append(1)\n",
    "        incorrect_class.append(y)\n",
    "        \n",
    "print('Number of correct predictions:', sum(correct))\n",
    "print('Number of incorrect predictions:', sum(incorrect))"
   ]
  },
  {
   "cell_type": "code",
   "execution_count": 93,
   "metadata": {},
   "outputs": [],
   "source": [
    "corr = Counter(correct_class)\n",
    "incorr = Counter(incorrect_class)\n",
    "corr = list(corr.values())\n",
    "incorr = list(incorr.values())"
   ]
  },
  {
   "cell_type": "code",
   "execution_count": 94,
   "metadata": {},
   "outputs": [
    {
     "name": "stdout",
     "output_type": "stream",
     "text": [
      "Number of Pneumonia Cases correctly guessed: 371\n",
      "Number of Normal Cases correctly guessed: 161\n",
      "Number of COVID Cases correctly guessed: 0\n",
      "Number of Pneumonia Cases incorrectly guessed: 19\n",
      "Number of Normal Cases incorrectly guessed: 73\n",
      "Number of COVID Cases incorrectly guessed: 8\n"
     ]
    }
   ],
   "source": [
    "print('Number of Pneumonia Cases correctly guessed:', corr[0])\n",
    "print('Number of Normal Cases correctly guessed:', corr[1])\n",
    "print('Number of COVID Cases correctly guessed: 0')\n",
    "print('Number of Pneumonia Cases incorrectly guessed:', incorr[0])\n",
    "print('Number of Normal Cases incorrectly guessed:', incorr[1])\n",
    "print('Number of COVID Cases incorrectly guessed:', incorr[2])"
   ]
  },
  {
   "cell_type": "code",
   "execution_count": 95,
   "metadata": {
    "scrolled": true
   },
   "outputs": [
    {
     "data": {
      "image/png": "[encoded data removed]",
      "text/plain": [
       "<Figure size 720x720 with 1 Axes>"
      ]
     },
     "metadata": {
      "needs_background": "light"
     },
     "output_type": "display_data"
    }
   ],
   "source": [
    "plt.figure(figsize = (10,10))\n",
    "plt.plot(model_covid.history['accuracy'], label = \"train_acc\")\n",
    "plt.plot(model_covid.history['val_accuracy'], label = \"validation_acc\")\n",
    "plt.plot(model_covid.history['loss'], label = \"train_loss\")\n",
    "plt.plot(model_covid.history['val_loss'], label = \"val_loss\")\n",
    "plt.title('Training Loss and Accuracy on Dataset')\n",
    "plt.ylabel('Loss / Accuracy')\n",
    "plt.xlabel('Epoch #')\n",
    "plt.legend(loc='lower left')\n",
    "plt.show()"
   ]
  },
  {
   "cell_type": "markdown",
   "metadata": {},
   "source": [
    "### Below is the confusion matrix for this CNN. As you can see, the model has issues distinguishing between COVID-19 Pneumonia and regular Pneumonia. This makes sense because the number of COVID-19 Pneumonia images are far smallerthan the regular Pneumonia dataset. In addition, as the two types of pneumonia are similar (viral induced), it would be difficult for the model to distinguish.\n",
    "\n",
    "### On a positive note, this highlights the ability for the dataset to track pneumonia in new images, and classify them. With a larger set of images, this could be further improved."
   ]
  },
  {
   "cell_type": "code",
   "execution_count": 25,
   "metadata": {},
   "outputs": [
    {
     "name": "stdout",
     "output_type": "stream",
     "text": [
      "                     precision    recall  f1-score   support\n",
      "\n",
      "Pneumonia (Class 0)       0.90      0.91      0.91       390\n",
      "   Normal (Class 1)       0.84      0.86      0.85       234\n",
      "    COVID (Class 2)       0.00      0.00      0.00         8\n",
      "\n",
      "           accuracy                           0.88       632\n",
      "          macro avg       0.58      0.59      0.58       632\n",
      "       weighted avg       0.87      0.88      0.87       632\n",
      "\n"
     ]
    }
   ],
   "source": [
    "print(classification_report(y_test, predictions, target_names = ['Pneumonia (Class 0)','Normal (Class 1)', 'COVID (Class 2)']))"
   ]
  },
  {
   "cell_type": "code",
   "execution_count": 26,
   "metadata": {},
   "outputs": [
    {
     "data": {
      "text/plain": [
       "array([[354,  36,   0],\n",
       "       [ 33, 201,   0],\n",
       "       [  5,   3,   0]], dtype=int64)"
      ]
     },
     "execution_count": 26,
     "metadata": {},
     "output_type": "execute_result"
    }
   ],
   "source": [
    "cm = confusion_matrix(y_test,predictions)\n",
    "cm"
   ]
  },
  {
   "cell_type": "code",
   "execution_count": 27,
   "metadata": {},
   "outputs": [],
   "source": [
    "cm_df = pd.DataFrame(cm , index = ['0','1','2'] , columns = ['0','1','2'])"
   ]
  },
  {
   "cell_type": "code",
   "execution_count": 72,
   "metadata": {},
   "outputs": [],
   "source": [
    "model.save('model_PNEUCOVIDCOMPARE_attempt1 24.05.2020.model')\n",
    "model.save_weights('model_PNEUCOVIDCOMPARE_attempt1 24.05.2020.h5')"
   ]
  },
  {
   "cell_type": "code",
   "execution_count": 28,
   "metadata": {
    "scrolled": false
   },
   "outputs": [
    {
     "data": {
      "text/plain": [
       "<matplotlib.axes._subplots.AxesSubplot at 0x25ba6200248>"
      ]
     },
     "execution_count": 28,
     "metadata": {},
     "output_type": "execute_result"
    },
    {
     "data": {
      "image/png": "[encoded data removed]",
      "text/plain": [
       "<Figure size 720x720 with 2 Axes>"
      ]
     },
     "metadata": {
      "needs_background": "light"
     },
     "output_type": "display_data"
    }
   ],
   "source": [
    "plt.figure(figsize = (10,10))\n",
    "sns.heatmap(cm_df, linewidth = 5 , annot = True, fmt='d',\n",
    "           xticklabels = ['Pneumonia', 'Normal', 'COVID'],\n",
    "           yticklabels = ['Pneumonia', 'Normal', 'COVID'],\n",
    "           cmap=\"YlGnBu\")"
   ]
  },
  {
   "cell_type": "markdown",
   "metadata": {},
   "source": [
    "### In order to further develop the model, I decided to reduce the learning rate in order to reduce the losses."
   ]
  },
  {
   "cell_type": "code",
   "execution_count": 14,
   "metadata": {},
   "outputs": [],
   "source": [
    "model2 = Sequential()\n",
    "\n",
    "#Convolution \n",
    "model2.add(Conv2D(32, (3, 3), activation=\"relu\", input_shape=(128, 128, 1)))\n",
    "\n",
    "#Pooling\n",
    "model2.add(MaxPooling2D(pool_size = (2, 2)))\n",
    "\n",
    "# 2nd Convolution\n",
    "model2.add(Conv2D(64, (3, 3), activation=\"relu\"))\n",
    "\n",
    "# 2nd Pooling layer\n",
    "model2.add(MaxPooling2D(pool_size = (2, 2)))\n",
    "\n",
    "# 3rd Convolution\n",
    "#model.add(Conv2D(128, (3, 3), activation=\"relu\"))\n",
    "\n",
    "# 3rd Pooling layer\n",
    "#model.add(MaxPooling2D(pool_size = (2, 2)))\n",
    "\n",
    "# Flatten the layer - this flattens the 3D feature maps into 1D \n",
    "# feature vectors.\n",
    "model2.add(Flatten())\n",
    "\n",
    "# Density\n",
    "model2.add(Dense(activation = 'relu', units = 2048, kernel_initializer = 'uniform'))\n",
    "model2.add(Dense(activation = 'relu', units = 1024, kernel_initializer = 'uniform'))\n",
    "model2.add(Dense(activation = 'relu', units = 512, kernel_initializer = 'uniform'))\n",
    "model2.add(Dense(activation = 'relu', units = 265, kernel_initializer = 'uniform'))\n",
    "model2.add(Dense(activation = 'sigmoid', units = 1, kernel_initializer = 'uniform'))\n",
    "\n",
    "# Compile\n",
    "optimizer = keras.optimizers.Adam(lr=0.001)\n",
    "model2.compile(optimizer = optimizer, loss = 'binary_crossentropy', metrics = ['accuracy'])"
   ]
  },
  {
   "cell_type": "code",
   "execution_count": 16,
   "metadata": {},
   "outputs": [
    {
     "name": "stdout",
     "output_type": "stream",
     "text": [
      "Epoch 1/10\n",
      "41/41 [==============================] - 110s 3s/step - loss: 0.5817 - accuracy: 0.7357 - val_loss: 1.4785 - val_accuracy: 0.3077\n",
      "Epoch 2/10\n",
      "41/41 [==============================] - 118s 3s/step - loss: 0.4729 - accuracy: 0.7927 - val_loss: 2.7612 - val_accuracy: 0.4231\n",
      "Epoch 3/10\n",
      "41/41 [==============================] - 113s 3s/step - loss: 0.3102 - accuracy: 0.8600 - val_loss: 2.2752 - val_accuracy: 0.4615\n",
      "Epoch 4/10\n",
      "41/41 [==============================] - 119s 3s/step - loss: 0.2489 - accuracy: 0.8965 - val_loss: 0.6574 - val_accuracy: 0.5000\n",
      "Epoch 5/10\n",
      "41/41 [==============================] - 96s 2s/step - loss: 0.2293 - accuracy: 0.8995 - val_loss: 0.5561 - val_accuracy: 0.5000\n",
      "Epoch 6/10\n",
      "41/41 [==============================] - 90s 2s/step - loss: 0.2104 - accuracy: 0.9077 - val_loss: 0.8407 - val_accuracy: 0.3846\n",
      "Epoch 7/10\n",
      "41/41 [==============================] - 91s 2s/step - loss: 0.1966 - accuracy: 0.9136 - val_loss: 0.4712 - val_accuracy: 0.3846\n",
      "Epoch 8/10\n",
      "41/41 [==============================] - 93s 2s/step - loss: 0.2134 - accuracy: 0.9069 - val_loss: -0.0077 - val_accuracy: 0.4231\n",
      "Epoch 9/10\n",
      "41/41 [==============================] - 90s 2s/step - loss: 0.2043 - accuracy: 0.9142 - val_loss: -5.9446 - val_accuracy: 0.4231\n",
      "Epoch 10/10\n",
      "41/41 [==============================] - 94s 2s/step - loss: 0.1986 - accuracy: 0.9045 - val_loss: -0.1325 - val_accuracy: 0.4231\n"
     ]
    }
   ],
   "source": [
    "model_covid = model2.fit(datagen.flow(x_train, y_train, batch_size = 128), epochs = 10,\n",
    "                                  validation_data = datagen.flow(x_val, y_val),\n",
    "                       shuffle = True)"
   ]
  },
  {
   "cell_type": "code",
   "execution_count": 17,
   "metadata": {},
   "outputs": [
    {
     "name": "stdout",
     "output_type": "stream",
     "text": [
      "632/632 [==============================] - 3s 5ms/step\n",
      "Loss of the model is -  35.944573411458656 %\n",
      "632/632 [==============================] - 3s 4ms/step\n",
      "Accuracy of the model is -  87.8164529800415 %\n"
     ]
    }
   ],
   "source": [
    "print(\"Loss of the model is - \" , model2.evaluate(x_test,y_test)[0]*100 , \"%\")\n",
    "print(\"Accuracy of the model is - \" , model2.evaluate(x_test,y_test)[1]*100 , \"%\")"
   ]
  },
  {
   "cell_type": "code",
   "execution_count": 20,
   "metadata": {},
   "outputs": [
    {
     "name": "stdout",
     "output_type": "stream",
     "text": [
      "training_accuracy 0.9044622\n",
      "validation_accuracy 0.42307692766189575\n"
     ]
    }
   ],
   "source": [
    "print(\"training_accuracy\", model2.history.history['accuracy'][-1])\n",
    "print(\"validation_accuracy\", model2.history.history['val_accuracy'][-1])"
   ]
  },
  {
   "cell_type": "markdown",
   "metadata": {},
   "source": [
    "### Whilst the amount that the validation loss fluctuates has reduced, the validation accuracy percentage has decreased and the overall loss of the model has increase. This suggests that decreasing the learning rate may be resulting in overfitting of the model."
   ]
  },
  {
   "cell_type": "code",
   "execution_count": 30,
   "metadata": {},
   "outputs": [
    {
     "data": {
      "image/png": "[encoded data removed]",
      "text/plain": [
       "<Figure size 720x720 with 1 Axes>"
      ]
     },
     "metadata": {
      "needs_background": "light"
     },
     "output_type": "display_data"
    }
   ],
   "source": [
    "plt.figure(figsize = (10,10))\n",
    "plt.plot(model2.history.history['accuracy'], label = \"train_acc\")\n",
    "plt.plot(model2.history.history['val_accuracy'], label = \"validation_acc\")\n",
    "plt.plot(model2.history.history['loss'], label = \"train_loss\")\n",
    "plt.plot(model2.history.history['val_loss'], label = \"val_loss\")\n",
    "plt.title('Training Loss and Accuracy on Dataset')\n",
    "plt.ylabel('Loss / Accuracy')\n",
    "plt.xlabel('Epoch #')\n",
    "plt.legend(loc='lower left')\n",
    "plt.show()"
   ]
  },
  {
   "cell_type": "code",
   "execution_count": 62,
   "metadata": {},
   "outputs": [],
   "source": [
    "model_new = load_model('model_PNEUCOVIDCOMPARE_attempt1 23.05.2020.model')"
   ]
  },
  {
   "cell_type": "code",
   "execution_count": 24,
   "metadata": {},
   "outputs": [],
   "source": [
    "predictions = model2.predict_classes(x_test)\n",
    "predictions = predictions.reshape(1,-1)[0]"
   ]
  }
 ],
 "metadata": {
  "kernelspec": {
   "display_name": "Python 3",
   "language": "python",
   "name": "python3"
  },
  "language_info": {
   "codemirror_mode": {
    "name": "ipython",
    "version": 3
   },
   "file_extension": ".py",
   "mimetype": "text/x-python",
   "name": "python",
   "nbconvert_exporter": "python",
   "pygments_lexer": "ipython3",
   "version": "3.7.7"
  }
 },
 "nbformat": 4,
 "nbformat_minor": 4
}
